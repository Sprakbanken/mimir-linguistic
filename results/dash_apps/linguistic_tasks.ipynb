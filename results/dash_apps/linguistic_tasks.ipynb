{
 "cells": [
  {
   "cell_type": "markdown",
   "metadata": {},
   "source": [
    "# Visualiser lingvistiske oppgaver"
   ]
  },
  {
   "cell_type": "code",
   "execution_count": 1,
   "metadata": {},
   "outputs": [],
   "source": [
    "from pathlib import Path \n",
    "import pandas as pd\n",
    "import numpy as np\n",
    "from utils import model_groups\n",
    "\n",
    "paths = (Path(\"../contrastive/results\"), Path(\"../greedy/results\"))\n",
    "results = {\"model\": [], \"task\": [], \"accuracy\": [], \"generation_strategy\": []}\n",
    "\n",
    "for p in paths:\n",
    "    for e in p.iterdir():\n",
    "        df = pd.read_json(e, lines=True)\n",
    "        df = df[df.dataset.isin([\"analogies\", \"idioms\", \"synonyms\"])]\n",
    "        accuracies = []\n",
    "        for x in df.itertuples():\n",
    "            results[\"model\"].append(e.stem)\n",
    "            results[\"accuracy\"].append(x.results[0][\"accuracy\"])\n",
    "            results[\"task\"].append(x.dataset)\n",
    "            results[\"generation_strategy\"].append(p.parent.name)\n",
    "        \n",
    "            accuracies.append(x.results[0][\"accuracy\"])\n",
    "        \n",
    "        results[\"model\"].append(e.stem)\n",
    "        results[\"accuracy\"].append(np.mean(accuracies))\n",
    "        results[\"task\"].append(\"all (average)\")\n",
    "        results[\"generation_strategy\"].append(p.parent.name)\n",
    "\n",
    "results_df = pd.DataFrame(results)"
   ]
  },
  {
   "cell_type": "code",
   "execution_count": 2,
   "metadata": {},
   "outputs": [],
   "source": [
    "def get_order(model_group:str) -> dict[str, str]:\n",
    "    match model_group:\n",
    "        case \"base_scratch_and_deltas\":\n",
    "            return {\"model\": ['mimir-mistral-7b-base-scratch','mimir-7b-factual','mimir-7b-nonfiction', 'mimir-7b-newspapers','mimir-7b-translated', \n",
    "                              'mimir-7b-untranslated', 'mimir-7b-untranslated-withnewspapers', 'mimir-7b-books','mimir-7b-rightholders', 'mimir-7b-fiction']}\n",
    "        case \"base_and_extended\":\n",
    "            return {\"model\": ['mimir-mistral-7b-base-scratch', 'mimir-mistral-7b-extended-scratch', 'mimir-mistral-7b-base', 'mimir-mistral-7b-extended']}\n",
    "        case \"bases_and_intructs\":\n",
    "            return {\"model\": [\n",
    "        'mimir-mistral-7b-base-scratch', 'mimir-mistral-7b-base-scratch-instruct',\n",
    "        'mimir-mistral-7b-extended-scratch', 'mimir-mistral-7b-extended-scratch-instruct',\n",
    "        'mimir-mistral-7b-base', 'mimir-mistral-7b-base-instruct',\n",
    "        'mimir-mistral-7b-extended', 'mimir-mistral-7b-extended-instruct',\n",
    "    ]}"
   ]
  },
  {
   "cell_type": "code",
   "execution_count": 3,
   "metadata": {},
   "outputs": [
    {
     "data": {
      "text/html": [
       "\n",
       "        <iframe\n",
       "            width=\"100%\"\n",
       "            height=\"650\"\n",
       "            src=\"http://127.0.0.1:8050/\"\n",
       "            frameborder=\"0\"\n",
       "            allowfullscreen\n",
       "            \n",
       "        ></iframe>\n",
       "        "
      ],
      "text/plain": [
       "<IPython.lib.display.IFrame at 0x77184ea02230>"
      ]
     },
     "metadata": {},
     "output_type": "display_data"
    }
   ],
   "source": [
    "from dash import Dash, html, dcc, callback, Output, Input\n",
    "import plotly.express as px\n",
    "\n",
    "df = results_df\n",
    "app = Dash()\n",
    "\n",
    "app.layout = [\n",
    "    html.H1(children='Linguistic tasks', style={'textAlign':'center', \"color\": \"White\"}),\n",
    "    dcc.Dropdown(list(model_groups.keys()), 'base_scratch_and_deltas', id='dropdown-modelgroup'),\n",
    "    dcc.Dropdown(df.task.unique(), 'all (average)', id='dropdown-task'),\n",
    "\n",
    "    dcc.Graph(id='graph-content')\n",
    "]\n",
    "\n",
    "@callback(\n",
    "    Output('graph-content', 'figure'),\n",
    "    [Input('dropdown-modelgroup', 'value'),\n",
    "    Input('dropdown-task', 'value')]\n",
    ")\n",
    "def update_graph(selected_modelgroup, selected_task):\n",
    "    dff = df[df.model.isin(model_groups[selected_modelgroup])]\n",
    "    dff = dff[dff.task == selected_task].sort_values(\"accuracy\")\n",
    "    return px.bar(dff, x='model', y='accuracy', color='generation_strategy', barmode=\"group\")#, category_orders=get_order(selected_modelgroup))\n",
    "\n",
    "if __name__ == '__main__':\n",
    "    app.run(debug=True)\n"
   ]
  }
 ],
 "metadata": {
  "kernelspec": {
   "display_name": "venv",
   "language": "python",
   "name": "python3"
  },
  "language_info": {
   "codemirror_mode": {
    "name": "ipython",
    "version": 3
   },
   "file_extension": ".py",
   "mimetype": "text/x-python",
   "name": "python",
   "nbconvert_exporter": "python",
   "pygments_lexer": "ipython3",
   "version": "3.10.12"
  }
 },
 "nbformat": 4,
 "nbformat_minor": 2
}
